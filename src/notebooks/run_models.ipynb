{
 "cells": [
  {
   "cell_type": "code",
   "execution_count": null,
   "metadata": {
    "pycharm": {
     "name": "#%%\n"
    }
   },
   "outputs": [],
   "source": [
    "%load_ext autoreload\n",
    "%autoreload 2"
   ]
  },
  {
   "cell_type": "code",
   "execution_count": null,
   "metadata": {
    "pycharm": {
     "name": "#%%\n"
    },
    "tags": []
   },
   "outputs": [],
   "source": [
    "import glob\n",
    "import json\n",
    "import os\n",
    "import sys\n",
    "\n",
    "from dotenv import load_dotenv\n",
    "load_dotenv()\n",
    "PROJECT_ROOT = os.environ[\"PROJECT_ROOT\"]\n",
    "sys.path.append(PROJECT_ROOT)"
   ]
  },
  {
   "cell_type": "code",
   "execution_count": null,
   "metadata": {
    "pycharm": {
     "name": "#%%\n"
    }
   },
   "outputs": [],
   "source": [
    "from src.modules.utils.slurm.slurm import slurm_sweep_run"
   ]
  },
  {
   "cell_type": "code",
   "execution_count": null,
   "metadata": {
    "pycharm": {
     "name": "#%%\n"
    }
   },
   "outputs": [],
   "source": [
    "JOB_TYPE = \"same_process\""
   ]
  },
  {
   "cell_type": "code",
   "execution_count": null,
   "metadata": {
    "pycharm": {
     "name": "#%%\n"
    }
   },
   "outputs": [],
   "source": [
    "sweep_id = \"LBD_results\"\n",
    "config_dir = os.path.join(PROJECT_ROOT, \"configs\")\n",
    "config_paths = {x[:-5]: os.path.join(config_dir, x) for x in os.listdir(config_dir) if x.endswith(\".json\")}\n",
    "configs = {k: json.load(open(v)) for k, v in config_paths.items()}"
   ]
  },
  {
   "cell_type": "code",
   "execution_count": null,
   "metadata": {
    "pycharm": {
     "name": "#%%\n"
    }
   },
   "outputs": [],
   "source": [
    "model_names = [\n",
    "    'LBDS_512_sum_no_bias', 'LBDS_512_sum_mn', 'LBDS_512_sum_ab', 'LBDS_512_norm_ab', 'LBDS_512_dot_ab', 'LBDS_256_256_ab', 'LBDA_512_sum_ab',\n",
    "    'MF_128', 'MF_512', 'CMF_128', 'CMF_512', 'OrdRec-U_512', 'OrdRec-UI_512'\n",
    "]"
   ]
  },
  {
   "cell_type": "code",
   "execution_count": null,
   "metadata": {
    "pycharm": {
     "name": "#%%\n"
    }
   },
   "outputs": [],
   "source": [
    "# Run MF models (need to be run before CMF)"
   ]
  },
  {
   "cell_type": "code",
   "execution_count": null,
   "metadata": {
    "pycharm": {
     "name": "#%%\n"
    },
    "tags": []
   },
   "outputs": [],
   "source": [
    "model_name = \"MF_128\"\n",
    "slurm_sweep_run(configs[model_name], model_name, sweep_id, job_type=JOB_TYPE)"
   ]
  },
  {
   "cell_type": "code",
   "execution_count": null,
   "metadata": {
    "pycharm": {
     "name": "#%%\n"
    },
    "tags": []
   },
   "outputs": [],
   "source": [
    "model_name = \"MF_512\"\n",
    "slurm_sweep_run(configs[model_name], model_name, sweep_id, job_type=JOB_TYPE)"
   ]
  },
  {
   "cell_type": "code",
   "execution_count": null,
   "metadata": {
    "pycharm": {
     "name": "#%%\n"
    }
   },
   "outputs": [],
   "source": [
    "# Run CMF models"
   ]
  },
  {
   "cell_type": "code",
   "execution_count": null,
   "metadata": {
    "pycharm": {
     "name": "#%%\n"
    },
    "tags": []
   },
   "outputs": [],
   "source": [
    "model_name = \"CMF_128\"\n",
    "configs[model_name][\"training_params\"][\"pretrained_model\"][\"dir\"] = os.path.join(PROJECT_ROOT, \"logs\", \"LBD_results\", \"MF_128\")\n",
    "slurm_sweep_run(configs[model_name], model_name, sweep_id, job_type=JOB_TYPE)"
   ]
  },
  {
   "cell_type": "code",
   "execution_count": null,
   "metadata": {
    "pycharm": {
     "name": "#%%\n"
    },
    "tags": []
   },
   "outputs": [],
   "source": [
    "model_name = \"CMF_512\"\n",
    "configs[model_name][\"training_params\"][\"pretrained_model\"][\"dir\"] = os.path.join(PROJECT_ROOT, \"logs\", \"LBD_results\", \"MF_512\")\n",
    "slurm_sweep_run(configs[model_name], model_name, sweep_id, job_type=JOB_TYPE)"
   ]
  },
  {
   "cell_type": "code",
   "execution_count": null,
   "metadata": {
    "pycharm": {
     "name": "#%%\n"
    }
   },
   "outputs": [],
   "source": [
    "# Run OrdRec models"
   ]
  },
  {
   "cell_type": "code",
   "execution_count": null,
   "metadata": {
    "pycharm": {
     "name": "#%%\n"
    },
    "tags": []
   },
   "outputs": [],
   "source": [
    "model_name = \"OrdRec-U_512\"\n",
    "slurm_sweep_run(configs[model_name], model_name, sweep_id, job_type=JOB_TYPE)"
   ]
  },
  {
   "cell_type": "code",
   "execution_count": null,
   "metadata": {
    "pycharm": {
     "name": "#%%\n"
    },
    "tags": []
   },
   "outputs": [],
   "source": [
    "model_name = \"OrdRec-UI_512\"\n",
    "slurm_sweep_run(configs[model_name], model_name, sweep_id, job_type=JOB_TYPE)"
   ]
  },
  {
   "cell_type": "code",
   "execution_count": null,
   "metadata": {
    "pycharm": {
     "name": "#%%\n"
    }
   },
   "outputs": [],
   "source": [
    "# Run LBD models"
   ]
  },
  {
   "cell_type": "code",
   "execution_count": null,
   "metadata": {
    "pycharm": {
     "name": "#%%\n"
    },
    "tags": []
   },
   "outputs": [],
   "source": [
    "model_name = \"LBDS_512_sum_no_bias\"\n",
    "slurm_sweep_run(configs[model_name], model_name, sweep_id, job_type=JOB_TYPE)"
   ]
  },
  {
   "cell_type": "code",
   "execution_count": null,
   "metadata": {
    "pycharm": {
     "name": "#%%\n"
    }
   },
   "outputs": [],
   "source": [
    "model_name = \"LBDS_512_sum_mn\" \n",
    "slurm_sweep_run(configs[model_name], model_name, sweep_id, job_type=JOB_TYPE)"
   ]
  },
  {
   "cell_type": "code",
   "execution_count": null,
   "metadata": {
    "pycharm": {
     "name": "#%%\n"
    }
   },
   "outputs": [],
   "source": [
    "model_name=\"LBDS_512_sum_ab\" \n",
    "slurm_sweep_run(configs[model_name], model_name, sweep_id, job_type=JOB_TYPE)"
   ]
  },
  {
   "cell_type": "code",
   "execution_count": null,
   "metadata": {
    "pycharm": {
     "name": "#%%\n"
    }
   },
   "outputs": [],
   "source": [
    "model_name=\"LBDS_512_norm_ab\" \n",
    "slurm_sweep_run(configs[model_name], model_name, sweep_id, job_type=JOB_TYPE)"
   ]
  },
  {
   "cell_type": "code",
   "execution_count": null,
   "metadata": {
    "pycharm": {
     "name": "#%%\n"
    }
   },
   "outputs": [],
   "source": [
    "model_name=\"LBDS_512_dot_ab\" \n",
    "slurm_sweep_run(configs[model_name], model_name, sweep_id, job_type=JOB_TYPE)"
   ]
  },
  {
   "cell_type": "code",
   "execution_count": null,
   "metadata": {
    "pycharm": {
     "name": "#%%\n"
    }
   },
   "outputs": [],
   "source": [
    "model_name=\"LBDS_256_256_ab\" \n",
    "slurm_sweep_run(configs[model_name], model_name, sweep_id, job_type=JOB_TYPE)"
   ]
  },
  {
   "cell_type": "code",
   "execution_count": null,
   "metadata": {
    "pycharm": {
     "name": "#%%\n"
    },
    "tags": []
   },
   "outputs": [],
   "source": [
    "model_name=\"LBDA_512_sum_ab\"\n",
    "slurm_sweep_run(configs[model_name], model_name, sweep_id, job_type=JOB_TYPE)"
   ]
  },
  {
   "cell_type": "code",
   "execution_count": null,
   "metadata": {
    "pycharm": {
     "name": "#%%\n"
    }
   },
   "outputs": [],
   "source": []
  }
 ],
 "metadata": {
  "kernelspec": {
   "display_name": "Conda (tf210)",
   "language": "python",
   "name": "system"
  },
  "language_info": {
   "codemirror_mode": {
    "name": "ipython",
    "version": 3
   },
   "file_extension": ".py",
   "mimetype": "text/x-python",
   "name": "python",
   "nbconvert_exporter": "python",
   "pygments_lexer": "ipython3",
   "version": "3.10.10"
  }
 },
 "nbformat": 4,
 "nbformat_minor": 4
}
