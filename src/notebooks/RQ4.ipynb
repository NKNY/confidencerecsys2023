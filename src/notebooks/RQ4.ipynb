{
 "cells": [
  {
   "cell_type": "code",
   "execution_count": null,
   "metadata": {
    "collapsed": false,
    "jupyter": {
     "outputs_hidden": false
    },
    "pycharm": {
     "name": "#%%\n"
    }
   },
   "outputs": [],
   "source": [
    "## RQ4"
   ]
  },
  {
   "cell_type": "code",
   "execution_count": null,
   "metadata": {
    "pycharm": {
     "name": "#%%\n"
    }
   },
   "outputs": [],
   "source": [
    "%load_ext autoreload\n",
    "%autoreload 2"
   ]
  },
  {
   "cell_type": "code",
   "execution_count": null,
   "metadata": {
    "pycharm": {
     "name": "#%%\n"
    }
   },
   "outputs": [],
   "source": [
    "import functools\n",
    "import os\n",
    "import pickle\n",
    "import sys\n",
    "\n",
    "import matplotlib as mpl\n",
    "import matplotlib.pyplot as plt\n",
    "import matplotlib.lines as mlines\n",
    "import matplotlib.transforms as mtransforms\n",
    "import numpy as np\n",
    "import pandas as pd\n",
    "import scipy.stats as ss\n",
    "import scipy.special as ssp\n",
    "\n",
    "from dotenv import load_dotenv\n",
    "\n",
    "load_dotenv()\n",
    "project_root = os.environ[\"PROJECT_ROOT\"]\n",
    "sys.path.append(project_root)"
   ]
  },
  {
   "cell_type": "code",
   "execution_count": null,
   "metadata": {
    "pycharm": {
     "name": "#%%\n"
    }
   },
   "outputs": [],
   "source": [
    "import src.modules.result_analysis.loading as result_loading\n",
    "import src.modules.result_analysis.model_standardization as ms"
   ]
  },
  {
   "cell_type": "code",
   "execution_count": null,
   "metadata": {
    "pycharm": {
     "name": "#%%\n"
    }
   },
   "outputs": [],
   "source": [
    "figures_root = os.path.join(project_root, \"latex\", \"figures\")\n",
    "os.makedirs(figures_root, exist_ok=True)"
   ]
  },
  {
   "cell_type": "code",
   "execution_count": null,
   "metadata": {
    "pycharm": {
     "name": "#%%\n"
    }
   },
   "outputs": [],
   "source": [
    "plt.rc('font', size=20)\n",
    "plt.rc('text', usetex=True)\n",
    "plt.rc('text.latex', preamble=r'\\usepackage{amsmath,amssymb,bm,bbm,lmodern}')"
   ]
  },
  {
   "cell_type": "code",
   "execution_count": null,
   "metadata": {
    "pycharm": {
     "name": "#%%\n"
    }
   },
   "outputs": [],
   "source": [
    "bins_mass_cols = [f\"bins_mass_{x}\" for x in range(10)]"
   ]
  },
  {
   "cell_type": "code",
   "execution_count": null,
   "metadata": {
    "pycharm": {
     "name": "#%%\n"
    }
   },
   "outputs": [],
   "source": [
    "NUM_FOLDS = 10\n",
    "\n",
    "data_path_templates = {\n",
    "    \"MF_128\": os.path.join(project_root, \"logs\", \"LBD_results\", \"MF_128\", \"MF_128-{}-0\", \"export\"),\n",
    "    \"CMF_128\": os.path.join(project_root, \"logs\", \"LBD_results\", \"CMF_128\", \"CMF_128-{}-0\", \"export\"),\n",
    "    \"OrdRec-UI_512\": os.path.join(project_root, \"logs\", \"LBD_results\", \"OrdRec-UI_512\", \"OrdRec-UI_512-{}-0\", \"export\"),\n",
    "    \"LBDS_512_sum_ab\": os.path.join(project_root, \"logs\", \"LBD_results\", \"LBDS_512_sum_ab\", \"LBDS_512_sum_ab-{}-0\", \"export\"),\n",
    "    \"LBDA_512_sum_ab\": os.path.join(project_root, \"logs\", \"LBD_results\", \"LBDA_512_sum_ab\", \"LBDA_512_sum_ab-{}-0\", \"export\")\n",
    "}\n",
    "\n",
    "print(\"Loading data\")\n",
    "data = {k: [result_loading.path_to_df(v.format(i)) for i in range(NUM_FOLDS)] for k, v in data_path_templates.items()}\n",
    "print(\"Standardising\")\n",
    "confidence_models = {k: [ms.standardise_model(k, df) for df in dfs] for k, dfs in data.items()}"
   ]
  },
  {
   "cell_type": "code",
   "execution_count": null,
   "metadata": {
    "pycharm": {
     "name": "#%%\n"
    }
   },
   "outputs": [],
   "source": [
    "def user_best_single_fold_single_repeat(df, true_min_rating):\n",
    "    best_user_scores = df[[\"score\"]].loc[df.groupby(\"uid\")[\"score\"].apply(lambda x: np.random.choice(x.index[x == x.max()]))]\n",
    "    order_sample = best_user_scores.sort_values(\"score\").index[::-1]\n",
    "    success = df.loc[order_sample][\"rating\"] >= true_min_rating\n",
    "    return success"
   ]
  },
  {
   "cell_type": "code",
   "execution_count": null,
   "metadata": {
    "pycharm": {
     "name": "#%%\n"
    }
   },
   "outputs": [],
   "source": [
    "def single_fold(mass, rating, true_min_rating, repeats, uid=None, round_digits=6, verbose=True, single_repeat_fn=user_best_single_fold_single_repeat):\n",
    "    df = pd.DataFrame.from_dict({\"score\": mass, \"rating\": rating})\n",
    "    if uid is not None:\n",
    "        df[\"uid\"] = uid\n",
    "    df[\"score\"].round(round_digits)\n",
    "    successes = []\n",
    "    iterator = tqdm(range(repeats)) if verbose else range(repeats)\n",
    "    for i in iterator:\n",
    "        successes.append(single_repeat_fn(df, true_min_rating))\n",
    "    return successes"
   ]
  },
  {
   "cell_type": "code",
   "execution_count": null,
   "metadata": {
    "pycharm": {
     "name": "#%%\n"
    }
   },
   "outputs": [],
   "source": [
    "def get_mass(df, name, pred_min_rating):\n",
    "    if name.startswith(\"LBDA\") or name.startswith(\"OrdRec\"):\n",
    "        return ordrec_cdf(df[bins_mass_cols].values, pred_min_rating)\n",
    "    if name.startswith(\"LBD\"):\n",
    "        return beta_cdf(df[\"alpha\"], df[\"beta\"], pred_min_rating)\n",
    "    return norm_cdf(df[\"mean\"], np.sqrt(df[\"var\"]), pred_min_rating)"
   ]
  },
  {
   "cell_type": "code",
   "execution_count": null,
   "metadata": {
    "pycharm": {
     "name": "#%%\n"
    }
   },
   "outputs": [],
   "source": [
    "def save_legend(path, ncol, fontsize=18, line_params=[]):\n",
    "    figlegend = plt.figure(figsize=(0.5, 0.5))\n",
    "    figlegend.legend(handles=[mlines.Line2D([], [], **line) for line in line_params],\n",
    "               fontsize=fontsize,\n",
    "               loc='center',\n",
    "               ncol=ncol,\n",
    "               frameon=False,\n",
    "               borderaxespad=0,\n",
    "               borderpad=0,\n",
    "               labelspacing=0.2,\n",
    "               columnspacing=1.)\n",
    "    figlegend.savefig(path, bbox_inches='tight')"
   ]
  },
  {
   "cell_type": "code",
   "execution_count": null,
   "metadata": {
    "pycharm": {
     "name": "#%%\n"
    }
   },
   "outputs": [],
   "source": [
    "import pickle\n",
    "from tqdm import tqdm\n",
    "pred_min_rating = 4.5\n",
    "true_min_rating = pred_min_rating\n",
    "round_to = 6\n",
    "rating_to_beta = lambda x: x/5-0.1\n",
    "rating_to_norm = lambda x: x-0.25\n",
    "rating_to_ordrec = lambda x: int(x*2)-1\n",
    "repeats = 1\n",
    "beta_cdf = lambda a, b, x: 1 - ss.beta(a,b).cdf(rating_to_beta(x))\n",
    "norm_cdf = lambda mean, std, x: 1 - ss.norm(mean, std).cdf(rating_to_norm(x))\n",
    "ordrec_cdf = lambda bin_mass, x: np.flip(np.cumsum(np.flip(bin_mass, axis=-1), axis=-1), axis=-1)[:,rating_to_ordrec(x)]\n",
    "\n",
    "load_cum = 0  # Set this to 1 if want to load the previously saved results\n",
    "save_cum = 1  # Set this to 0 if do not want to save the current results\n",
    "\n",
    "num_folds = 10\n",
    "cum_path = \"RQ4_cum_precision@1\"\n",
    "cum = {}\n",
    "successes = {k: [[]]*num_folds for k in data}\n",
    "\n",
    "if load_cum:\n",
    "    with open(cum_path, \"rb\") as input_file:\n",
    "        cum = pickle.load(input_file)\n",
    "\n",
    "for k,z,c,l in zip([\"MF_128\", \"CMF_128\", \"OrdRec-UI_512\", \"LBDS_512_sum_ab\", \"LBDA_512_sum_ab\"], [0, 1, 3, 4, 5], [\"black\", \"C1\", \"C2\", \"C3\", \"C0\"], [\"MF\", \"CMF\", \"OUI\", \"LBDS\", \"LBDA\"]):\n",
    "    dfs = data[k]\n",
    "\n",
    "    if save_cum:\n",
    "        for fold in range(num_folds):\n",
    "            df = dfs[fold]\n",
    "            m = get_mass(df, k, pred_min_rating)\n",
    "            successes[k][fold] = single_fold(m, df[\"rating\"], true_min_rating, repeats, uid=df[\"uid\"], round_digits=round_to, verbose=True, single_repeat_fn=user_best_single_fold_single_repeat)\n",
    "        shortest_fold_len = np.min([len(successes[k][j][0]) for j in range(num_folds)])  # Different folds have different number of interactions\n",
    "        successes[k] = [[inner[:shortest_fold_len] for inner in outer] for outer in successes[k]]\n",
    "        cum[k] = np.array(successes[k]).cumsum(axis=-1)\n",
    "\n",
    "if save_cum:\n",
    "    with open(cum_path, \"wb\") as output_file:\n",
    "        pickle.dump(cum, output_file)"
   ]
  },
  {
   "cell_type": "code",
   "execution_count": null,
   "metadata": {
    "pycharm": {
     "name": "#%%\n"
    }
   },
   "outputs": [],
   "source": [
    "figsize = (7.68,4.8)"
   ]
  },
  {
   "cell_type": "markdown",
   "metadata": {
    "pycharm": {
     "name": "#%% md\n"
    }
   },
   "source": [
    "### Figure 4"
   ]
  },
  {
   "cell_type": "code",
   "execution_count": null,
   "metadata": {
    "pycharm": {
     "name": "#%%\n"
    }
   },
   "outputs": [],
   "source": [
    "N = 52777\n",
    "num_sampled = 100\n",
    "ds = {}\n",
    "fig, ax = plt.subplots(figsize = figsize)\n",
    "x = np.unique(np.floor(np.logspace(np.log10(100), np.log10(N-1), num_sampled)).astype(int))\n",
    "# x = np.arange(0, N, 1).astype(int)\n",
    "for k,z,c,l in zip([\"MF_128\", \"CMF_128\", \"OrdRec-UI_512\", \"LBDS_512_sum_ab\", \"LBDA_512_sum_ab\"], [0, 1, 3, 4, 5], [\"grey\", \"C2\", \"C0\", \"C1\", \"C3\"], [\"MF\", \"CMF\", \"OUI\", \"LBDS\", \"LBDA\"]):\n",
    "    d = (cum[k][:,:,:N]/np.arange(1, N+1))\n",
    "    ds[k] = d\n",
    "    y = d.mean(axis=(0,1))\n",
    "    y_min = np.min(d, axis=(0,1))\n",
    "    y_max = np.max(d, axis=(0,1))\n",
    "    ax.plot(x+1, y[x], label=l, c=c)\n",
    "    ax.fill_between(x, y_min[x], y_max[x], color=c, alpha=0.3)\n",
    "ax.set_ylim(0.6, 1)\n",
    "ax.set_xlim(100, N)\n",
    "ax.set_xscale('log')\n",
    "plt.savefig(f\"{figures_root}/{cum_path}.pdf\", format=\"pdf\", pad_inches=0, dpi=300, bbox_inches=\"tight\")"
   ]
  },
  {
   "cell_type": "code",
   "execution_count": null,
   "metadata": {
    "pycharm": {
     "name": "#%%\n"
    },
    "tags": []
   },
   "outputs": [],
   "source": [
    "N = 52777\n",
    "S = 1\n",
    "log = True\n",
    "x = np.unique(np.floor(np.logspace(np.log10(100), np.log10(N-1), num_sampled)).astype(int))\n",
    "fig, ax = plt.subplots(figsize=figsize)\n",
    "for k,z,c,l in zip([\"MF_128\", \"CMF_128\", \"OrdRec-UI_512\", \"LBDS_512_sum_ab\", \"LBDA_512_sum_ab\"], [0, 1, 3, 4, 5], [\"grey\", \"C2\", \"C0\", \"C1\", \"C3\"], [\"MF\", \"CMF\", \"OUI\", \"LBDS\", \"LBDA\"]):\n",
    "    d = (cum[k]/cum[\"MF_128\"])\n",
    "    y = d.mean(axis=(0,1))\n",
    "    y_min = np.min(d, axis=(0,1))\n",
    "    y_max = np.max(d, axis=(0,1))\n",
    "    ax.plot(x, y[x], label=l, c=c)\n",
    "    ax.fill_between(x, y_min[x], y_max[x], color=c, alpha=0.3)\n",
    "ax.set_ylim(0.99, 1.17)\n",
    "ax.set_xlim(100, N)\n",
    "ax.set_xscale('log')\n",
    "plt.savefig(f\"{figures_root}/{cum_path}_relative.pdf\", format=\"pdf\", pad_inches=0, dpi=300, bbox_inches=\"tight\")"
   ]
  },
  {
   "cell_type": "code",
   "execution_count": null,
   "metadata": {
    "pycharm": {
     "name": "#%%\n"
    }
   },
   "outputs": [],
   "source": [
    "plotting_params = [\n",
    "    {\n",
    "        \"color\": \"grey\",\n",
    "        \"linestyle\": \"-\",\n",
    "        \"linewidth\": 10,\n",
    "        \"markersize\": 10,\n",
    "        \"fillstyle\": \"none\",\n",
    "        \"label\": \"MF\"\n",
    "    },\n",
    "    {\n",
    "        \"color\": \"C2\",\n",
    "        \"linestyle\": \"-\",\n",
    "        \"linewidth\": 10,\n",
    "        \"markersize\": 10,\n",
    "        \"fillstyle\": \"none\",\n",
    "        \"label\": \"CMF\"\n",
    "    },\n",
    "    {\n",
    "        \"color\": \"C0\",\n",
    "        \"linestyle\": \"-\",\n",
    "        \"linewidth\": 10,\n",
    "        \"markersize\": 10,\n",
    "        \"fillstyle\": \"none\",\n",
    "        \"label\": \"OrdRec-UI\"\n",
    "    },\n",
    "        {\n",
    "        \"color\": \"C1\",\n",
    "        \"linestyle\": \"-\",\n",
    "        \"linewidth\": 10,\n",
    "        \"markersize\": 10,\n",
    "        \"fillstyle\": \"none\",\n",
    "        \"label\": \"LBD-S\"\n",
    "    },\n",
    "        {\n",
    "        \"color\": \"C3\",\n",
    "        \"linestyle\": \"-\",\n",
    "        \"linewidth\": 10,\n",
    "        \"markersize\": 10,\n",
    "        \"fillstyle\": \"none\",\n",
    "        \"label\": \"LBD-A\"\n",
    "    },\n",
    "]"
   ]
  },
  {
   "cell_type": "code",
   "execution_count": null,
   "metadata": {
    "pycharm": {
     "name": "#%%\n"
    }
   },
   "outputs": [],
   "source": [
    "save_legend(f\"{figures_root}/RQ4_legend.pdf\", 5, line_params=plotting_params)"
   ]
  },
  {
   "cell_type": "markdown",
   "metadata": {
    "pycharm": {
     "name": "#%% md\n"
    }
   },
   "source": [
    "### Table 4"
   ]
  },
  {
   "cell_type": "code",
   "execution_count": null,
   "metadata": {
    "pycharm": {
     "name": "#%%\n"
    }
   },
   "outputs": [],
   "source": [
    "pos = [100, 316,1000,3162,10000,31620]\n",
    "stat_sign = ss.wilcoxon(ds[\"LBDA_512_sum_ab\"][:,:,pos], ds[\"OrdRec-UI_512\"][:,:,pos], alternative=\"greater\", axis=(0,1)); print(stat_sign)\n",
    "stat_sign = ss.wilcoxon(ds[\"OrdRec-UI_512\"][:,:,pos], ds[\"LBDS_512_sum_ab\"][:,:,pos], alternative=\"greater\", axis=(0,1)); print(stat_sign)\n",
    "stat_sign = ss.wilcoxon(ds[\"LBDS_512_sum_ab\"][:,:,pos], ds[\"OrdRec-UI_512\"][:,:,pos], alternative=\"greater\", axis=(0,1)); print(stat_sign)"
   ]
  },
  {
   "cell_type": "code",
   "execution_count": null,
   "metadata": {
    "pycharm": {
     "name": "#%%\n"
    }
   },
   "outputs": [],
   "source": [
    "res = {k: \" &  \".join([f\"{v1:.3f} $\\pm$ {v2:.3f}\" for v1,v2 in zip(d.mean(axis=(0,1))[pos], d.std(axis=(0,1))[pos])]) + \"\\\\\\\\\" for k, d in ds.items()}\n",
    "for r,v in res.items():\n",
    "    print(v)"
   ]
  },
  {
   "cell_type": "code",
   "execution_count": null,
   "metadata": {
    "pycharm": {
     "name": "#%%\n"
    }
   },
   "outputs": [],
   "source": []
  }
 ],
 "metadata": {
  "jupytext": {
   "formats": "ipynb,py:percent"
  },
  "kernelspec": {
   "display_name": "Python 3 (ipykernel)",
   "language": "python",
   "name": "python3"
  },
  "language_info": {
   "codemirror_mode": {
    "name": "ipython",
    "version": 3
   },
   "file_extension": ".py",
   "mimetype": "text/x-python",
   "name": "python",
   "nbconvert_exporter": "python",
   "pygments_lexer": "ipython3",
   "version": "3.10.10"
  }
 },
 "nbformat": 4,
 "nbformat_minor": 4
}
