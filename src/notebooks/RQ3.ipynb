{
 "cells": [
  {
   "cell_type": "markdown",
   "metadata": {
    "jupyter": {
     "outputs_hidden": true
    },
    "pycharm": {
     "name": "#%%\n"
    }
   },
   "source": [
    "## RQ3"
   ]
  },
  {
   "cell_type": "code",
   "execution_count": null,
   "metadata": {},
   "outputs": [],
   "source": [
    "%load_ext autoreload\n",
    "%autoreload 2"
   ]
  },
  {
   "cell_type": "code",
   "execution_count": null,
   "metadata": {},
   "outputs": [],
   "source": [
    "import os\n",
    "import sys\n",
    "\n",
    "import matplotlib.lines as mlines\n",
    "import matplotlib.pyplot as plt\n",
    "import matplotlib.ticker as ticker\n",
    "import numpy as np\n",
    "import pandas as pd\n",
    "import scipy.stats as ss\n",
    "\n",
    "from sklearn.metrics import ndcg_score\n",
    "\n",
    "from dotenv import load_dotenv\n",
    "\n",
    "load_dotenv()\n",
    "project_root = os.environ[\"PROJECT_ROOT\"]\n",
    "sys.path.append(project_root)"
   ]
  },
  {
   "cell_type": "code",
   "execution_count": null,
   "metadata": {},
   "outputs": [],
   "source": [
    "import src.modules.result_analysis.loading as result_loading\n",
    "import src.modules.result_analysis.model_standardization as ms"
   ]
  },
  {
   "cell_type": "code",
   "execution_count": null,
   "metadata": {},
   "outputs": [],
   "source": [
    "figures_root = os.path.join(project_root, \"latex\", \"figures\")\n",
    "os.makedirs(figures_root, exist_ok=True)"
   ]
  },
  {
   "cell_type": "code",
   "execution_count": null,
   "metadata": {},
   "outputs": [],
   "source": [
    "plt.rc('font', size=20)\n",
    "plt.rc('text', usetex=True)\n",
    "plt.rc('text.latex', preamble=r'\\usepackage{amsmath,amssymb,bm,bbm,lmodern}')"
   ]
  },
  {
   "cell_type": "code",
   "execution_count": null,
   "metadata": {},
   "outputs": [],
   "source": [
    "def loglik(df):\n",
    "    return np.log(np.take_along_axis((df[bins_mass_cols].values+1e-6)/(1.+1e-5), (df[\"rating\"]*2-1).astype(int).values[:,None], axis=1)).sum()"
   ]
  },
  {
   "cell_type": "code",
   "execution_count": null,
   "metadata": {},
   "outputs": [],
   "source": [
    "bins_mass_cols = [f\"bins_mass_{x}\" for x in range(10)]\n",
    "figsize = (6.095, 3.047)"
   ]
  },
  {
   "cell_type": "code",
   "execution_count": null,
   "metadata": {},
   "outputs": [],
   "source": [
    "NUM_FOLDS = 10\n",
    "\n",
    "data_path_templates = {\n",
    "    \"CMF_128\": os.path.join(project_root, \"logs\", \"LBD_results\", \"CMF_128\", \"CMF_128-{}-0\", \"export\"),\n",
    "    \"OrdRec-UI_512\": os.path.join(project_root, \"logs\", \"LBD_results\", \"OrdRec-U_512\", \"OrdRec-U_512-{}-0\", \"export\"),\n",
    "    \"OrdRec-UI_512\": os.path.join(project_root, \"logs\", \"LBD_results\", \"OrdRec-UI_512\", \"OrdRec-UI_512-{}-0\", \"export\"),\n",
    "    \"LBDS_512_sum_ab\": os.path.join(project_root, \"logs\", \"LBD_results\", \"LBDS_512_sum_ab\", \"LBDS_512_sum_ab-{}-0\", \"export\"),\n",
    "    \"LBDA_512_sum_ab\": os.path.join(project_root, \"logs\", \"LBD_results\", \"LBDA_512_sum_ab\", \"LBDA_512_sum_ab-{}-0\", \"export\"),\n",
    "}\n",
    "\n",
    "print(\"Loading data\")\n",
    "data = {k: [result_loading.path_to_df(v.format(i)) for i in range(NUM_FOLDS)] for k, v in data_path_templates.items()}\n",
    "print(\"Standardising\")\n",
    "confidence_models = {k: [ms.standardise_model(k, df) for df in dfs] for k, dfs in data.items()}"
   ]
  },
  {
   "cell_type": "code",
   "execution_count": null,
   "metadata": {},
   "outputs": [],
   "source": [
    "corr_types = {\"linear\": lambda a,b: np.corrcoef(a,b)[0,1], \"rank\": lambda a,b: ss.kendalltau(a,b).statistic}\n",
    "corr = {k: {m: [] for m in confidence_models} for k in corr_types}\n",
    "for m, dfs in confidence_models.items():\n",
    "    for k, corr_fn in corr_types.items():\n",
    "        for df in dfs:\n",
    "            corr[k][m].append(corr_fn(np.abs(df[\"err_mean\"]), df[\"var\"]))"
   ]
  },
  {
   "cell_type": "code",
   "execution_count": null,
   "metadata": {},
   "outputs": [],
   "source": [
    "# Linear Correlation\n",
    "alternative = \"greater\"\n",
    "metric = corr[\"linear\"]\n",
    "keys = list(metric.keys())\n",
    "stat_sign = np.zeros((len(metric), len(metric)))\n",
    "for i, k in enumerate(keys):\n",
    "    for j, k2 in enumerate(keys):\n",
    "        if i == j:\n",
    "            continue\n",
    "        stat_sign[i,j] = ss.wilcoxon(metric[k], metric[k2], alternative=alternative).pvalue\n",
    "print(\"Linear Correlation\")\n",
    "for m, v in metric.items():\n",
    "    print(f\"{m}: {np.mean(v)} ({np.std(v)})\")\n",
    "print(f\"\\n(i,j) is p-value for alternative hypothesis that i is {alternative} than j.\")\n",
    "print(pd.DataFrame(stat_sign, index=keys, columns=keys))"
   ]
  },
  {
   "cell_type": "code",
   "execution_count": null,
   "metadata": {},
   "outputs": [],
   "source": [
    "# Rank Correlation\n",
    "alternative = \"greater\"\n",
    "metric = corr[\"rank\"]\n",
    "keys = list(metric.keys())\n",
    "stat_sign = np.zeros((len(metric), len(metric)))\n",
    "for i, k in enumerate(keys):\n",
    "    for j, k2 in enumerate(keys):\n",
    "        if i == j:\n",
    "            continue\n",
    "        stat_sign[i,j] = ss.wilcoxon(metric[k], metric[k2], alternative=alternative).pvalue\n",
    "print(\"Rank Correlation\")\n",
    "for m, v in metric.items():\n",
    "    print(f\"{m}: {np.mean(v)} ({np.std(v)})\")\n",
    "print(f\"\\n(i,j) is p-value for alternative hypothesis that i is {alternative} than j.\")\n",
    "print(pd.DataFrame(stat_sign, index=keys, columns=keys))"
   ]
  },
  {
   "cell_type": "code",
   "execution_count": null,
   "metadata": {},
   "outputs": [],
   "source": [
    "confidence_models = {k: pd.concat(v) for k, v in confidence_models.items()}"
   ]
  },
  {
   "cell_type": "markdown",
   "metadata": {},
   "source": [
    "### Figure 3"
   ]
  },
  {
   "cell_type": "code",
   "execution_count": null,
   "metadata": {},
   "outputs": [],
   "source": [
    "def postprocess_fig(fig, ax, xlabel=None, ylabel=None, title=None, xscale=\"linear\", yscale=\"linear\"):\n",
    "    ax.set_xlabel(xlabel)\n",
    "    ax.set_ylabel(ylabel)\n",
    "    ax.set_title(title)\n",
    "    ax.set_xscale(xscale)\n",
    "    ax.set_yscale(yscale)\n",
    "    return fig\n",
    "    \n",
    "def save_fig(fig, path, *args, **kwargs):\n",
    "    fig.savefig(path, *args, format=\"pdf\", bbox_inches=\"tight\", pad_inches=0, **kwargs)\n",
    "    \n",
    "def save_legend(path, ncol, fontsize=18, line_params=[]):\n",
    "    figlegend = plt.figure(figsize=(0.5, 0.5))\n",
    "    figlegend.legend(handles=[mlines.Line2D([], [], **line) for line in line_params],\n",
    "               fontsize=fontsize,\n",
    "               loc='center',\n",
    "               ncol=ncol,\n",
    "               frameon=False,\n",
    "               borderaxespad=0,\n",
    "               borderpad=0,\n",
    "               labelspacing=0.2,\n",
    "               columnspacing=1.)\n",
    "    figlegend.savefig(path, bbox_inches='tight')"
   ]
  },
  {
   "cell_type": "code",
   "execution_count": null,
   "metadata": {},
   "outputs": [],
   "source": [
    "models = [\"CMF_128\", \"OrdRec-UI_512\", \"LBDA_512_sum_ab\"]\n",
    "colors = [\"C2\", \"C0\", \"C3\"]"
   ]
  },
  {
   "cell_type": "code",
   "execution_count": null,
   "metadata": {
    "tags": []
   },
   "outputs": [],
   "source": [
    "fig_axes = []"
   ]
  },
  {
   "cell_type": "code",
   "execution_count": null,
   "metadata": {
    "lines_to_next_cell": 2
   },
   "outputs": [],
   "source": [
    "df = confidence_models[\"LBDA_512_sum_ab\"]\n",
    "fig, ax = plt.subplots(figsize=figsize)\n",
    "fig_axes.append((fig, ax))\n",
    "disp = lambda: df[\"var\"]\n",
    "err = lambda: np.abs(df[\"err_mean\"])\n",
    "non_outliers = np.ones_like(df[\"rating\"], dtype=bool) \n",
    "num_bins = 1000\n",
    "\n",
    "for i, (model, c) in enumerate(zip(models, colors)):\n",
    "    df = confidence_models[model]\n",
    "    non_outliers = (disp() <= disp().quantile(0.999)) & (disp() >= disp().quantile(0.0001))\n",
    "    x, y = disp()[non_outliers], err()[non_outliers]\n",
    "    _, x_bins = np.histogram(x, bins=num_bins)\n",
    "    x_values, y_values = x_bins[:-1], y.groupby(pd.cut(x, x_bins)).mean().values\n",
    "    ax.scatter(x_values, y_values, label=model, c=c)\n",
    "    \n",
    "line_params = [\n",
    "        {\n",
    "        \"color\": \"C2\",\n",
    "        \"linestyle\": \"-\",\n",
    "        \"linewidth\": 10,\n",
    "        \"markersize\": 1,\n",
    "        \"fillstyle\": \"none\",\n",
    "        \"label\": \"CMF\"\n",
    "    },\n",
    "            {\n",
    "        \"color\": \"C0\",\n",
    "        \"linestyle\": \"-\",\n",
    "        \"linewidth\": 10,\n",
    "        \"markersize\": 1,\n",
    "        \"fillstyle\": \"none\",\n",
    "        \"label\": \"OrdRec-UI\"\n",
    "    }, \n",
    "        {\n",
    "        \"color\": \"C3\",\n",
    "        \"linestyle\": \"-\",\n",
    "        \"linewidth\": 10,\n",
    "        \"markersize\": 1,\n",
    "        \"fillstyle\": \"none\",\n",
    "        \"label\": \"LBD-A\"\n",
    "    }\n",
    "]\n",
    "ncol=1\n",
    "fontsize=18\n",
    "plt.gca().yaxis.set_ticks_position('both')\n",
    "ax.set_ylim((0, ax.get_ylim()[1]))"
   ]
  },
  {
   "cell_type": "code",
   "execution_count": null,
   "metadata": {
    "lines_to_next_cell": 2
   },
   "outputs": [],
   "source": [
    "xlim1, ylim1 = ax.get_xlim(), ax.get_ylim()"
   ]
  },
  {
   "cell_type": "code",
   "execution_count": null,
   "metadata": {
    "tags": []
   },
   "outputs": [],
   "source": [
    "postprocess_params = {\n",
    "}\n",
    "save_params = {\n",
    "    \"path\": f\"{figures_root}/RQ3_var_vs_mae.pdf\",\n",
    "    \"dpi\": 300,    \n",
    "}\n",
    "save_fig(postprocess_fig(fig, ax, **postprocess_params), **save_params)"
   ]
  },
  {
   "cell_type": "code",
   "execution_count": null,
   "metadata": {},
   "outputs": [],
   "source": [
    "fig, ax = plt.subplots(figsize=figsize)\n",
    "disp = lambda: df[\"var\"]\n",
    "err = lambda: np.abs(df[\"err_mean\"])\n",
    "non_outliers = np.ones_like(df[\"rating\"], dtype=bool) \n",
    "num_bins = 1000\n",
    "\n",
    "for i, (model, c) in enumerate(zip(models, colors)):\n",
    "    df = confidence_models[model]\n",
    "    non_outliers = (disp() <= disp().quantile(0.999)) & (disp() >= disp().quantile(0.0001))\n",
    "    x, y = disp()[non_outliers], err()[non_outliers]\n",
    "    _, x_bins = np.histogram(x, bins=num_bins)\n",
    "    x_bins2 = np.arange(num_bins)/num_bins\n",
    "    groups = y.groupby(pd.cut(x, x_bins)).mean()\n",
    "    x_values, y_values = x_bins2, groups.values\n",
    "    ax.scatter(x_values, y_values, label=model, c=c)\n",
    "plt.gca().yaxis.set_ticks_position('both')\n",
    "ax.set_ylim(ylim1)"
   ]
  },
  {
   "cell_type": "code",
   "execution_count": null,
   "metadata": {},
   "outputs": [],
   "source": [
    "postprocess_params = {\n",
    "}\n",
    "save_params = {\n",
    "    \"path\": f\"{figures_root}/RQ3_var_vs_mae_rescaled_minmax.pdf\",\n",
    "    \"dpi\": 300,    \n",
    "}\n",
    "save_fig(postprocess_fig(fig, ax, **postprocess_params), **save_params)"
   ]
  },
  {
   "cell_type": "code",
   "execution_count": null,
   "metadata": {
    "tags": []
   },
   "outputs": [],
   "source": [
    "fig, ax = plt.subplots(figsize=figsize)\n",
    "disp = lambda: df[\"var\"]\n",
    "err = lambda: np.abs(df[\"err_mean\"])\n",
    "num_bins = 1000\n",
    "non_outliers = np.ones_like(df[\"rating\"], dtype=bool) \n",
    "\n",
    "for i, (model, c) in enumerate(zip(models, colors)):    \n",
    "    df = confidence_models[model]\n",
    "    non_outliers = (disp() <= disp().quantile(0.999)) & (disp() >= disp().quantile(0.001))\n",
    "    x, y = disp()[non_outliers], err()[non_outliers]\n",
    "    x_bins = np.array([pd.qcut(x, num_bins, duplicates=\"drop\").values.categories[0].left] + [_.right for _ in pd.qcut(x,num_bins,duplicates=\"drop\").values.categories])\n",
    "    x_bins2 = np.array([pd.qcut(x, num_bins, duplicates=\"drop\", labels=np.arange(num_bins)).values.categories[0]] + [_ for _ in pd.qcut(x,num_bins,duplicates=\"drop\", labels=np.arange(num_bins)).values.categories])\n",
    "    x_values, y_values = x_bins[:-1], y.groupby(pd.cut(x, x_bins)).mean().values\n",
    "    conf = y.groupby(pd.cut(x, x_bins)).std().values\n",
    "    if model.startswith(\"OrdRec\"):\n",
    "        ordrec_vals = y_values\n",
    "    ax.scatter(np.arange(num_bins)/num_bins, y_values, label=model, c=c, alpha=1.)\n",
    "plt.gca().yaxis.set_ticks_position('both')\n",
    "ax.set_ylim(ylim1)"
   ]
  },
  {
   "cell_type": "code",
   "execution_count": null,
   "metadata": {
    "tags": []
   },
   "outputs": [],
   "source": [
    "postprocess_params = {\n",
    "}\n",
    "save_params = {\n",
    "    \"path\": f\"{figures_root}/RQ3_var_vs_mae_rescaled_quantiles.pdf\",\n",
    "    \"dpi\": 300,    \n",
    "}\n",
    "save_fig(postprocess_fig(fig, ax, **postprocess_params), **save_params)"
   ]
  },
  {
   "cell_type": "code",
   "execution_count": null,
   "metadata": {},
   "outputs": [],
   "source": [
    "plotting_params = [\n",
    "          {\n",
    "        \"color\": \"C2\",\n",
    "        \"linestyle\": \"-\",\n",
    "        \"linewidth\": 10,\n",
    "        \"markersize\": 10,\n",
    "        \"fillstyle\": \"none\",\n",
    "        \"label\": \"CMF\"\n",
    "    }, {\n",
    "        \"color\": \"C0\",\n",
    "        \"linestyle\": \"-\",\n",
    "        \"linewidth\": 10,\n",
    "        \"markersize\": 10,\n",
    "        \"fillstyle\": \"none\",\n",
    "        \"label\": \"OrdRec-UI\"\n",
    "    }, {\n",
    "        \"color\": \"C3\",\n",
    "        \"linestyle\": \"-\",\n",
    "        \"linewidth\": 10,\n",
    "        \"markersize\": 10,\n",
    "        \"fillstyle\": \"none\",\n",
    "        \"label\": \"LBD-A\"\n",
    "    }\n",
    "]"
   ]
  },
  {
   "cell_type": "code",
   "execution_count": null,
   "metadata": {},
   "outputs": [],
   "source": [
    "save_legend(f\"{figures_root}/RQ3_legend.pdf\", 3, line_params=plotting_params)"
   ]
  },
  {
   "cell_type": "markdown",
   "metadata": {},
   "source": [
    "### Var vs mean pred"
   ]
  },
  {
   "cell_type": "code",
   "execution_count": null,
   "metadata": {},
   "outputs": [],
   "source": [
    "models = [\"CMF_128\", \"OrdRec-UI_512\", \"LBDA_512_sum_ab\"]\n",
    "colors = [\"C2\", \"C0\", \"C3\"]"
   ]
  },
  {
   "cell_type": "code",
   "execution_count": null,
   "metadata": {
    "tags": []
   },
   "outputs": [],
   "source": [
    "fig_axes = []"
   ]
  },
  {
   "cell_type": "code",
   "execution_count": null,
   "metadata": {
    "lines_to_next_cell": 2
   },
   "outputs": [],
   "source": [
    "df = confidence_models[\"LBDA_512_sum_ab\"]\n",
    "fig, ax = plt.subplots(figsize=figsize)\n",
    "fig_axes.append((fig, ax))\n",
    "disp = lambda: df[\"var\"]\n",
    "err = lambda: df[\"mean\"]\n",
    "non_outliers = np.ones_like(df[\"rating\"], dtype=bool) \n",
    "num_bins = 1000\n",
    "\n",
    "for i, (model, c) in enumerate(zip(models, colors)):\n",
    "    df = confidence_models[model]\n",
    "    non_outliers = (disp() <= disp().quantile(0.999)) & (disp() >= disp().quantile(0.0001))\n",
    "    x, y = disp()[non_outliers], err()[non_outliers]\n",
    "    _, x_bins = np.histogram(x, bins=num_bins)\n",
    "    x_values, y_values = x_bins[:-1], y.groupby(pd.cut(x, x_bins)).mean().values\n",
    "    ax.scatter(x_values, y_values, label=model, c=c)\n",
    "ax.set_xlim(xlim1)\n",
    "ax.xaxis.set_major_locator(ticker.MultipleLocator(0.5))\n",
    "plt.gca().yaxis.set_ticks_position('both')"
   ]
  },
  {
   "cell_type": "code",
   "execution_count": null,
   "metadata": {},
   "outputs": [],
   "source": [
    "ylim2 = ax.get_ylim()"
   ]
  },
  {
   "cell_type": "code",
   "execution_count": null,
   "metadata": {
    "tags": []
   },
   "outputs": [],
   "source": [
    "postprocess_params = {\n",
    "}\n",
    "save_params = {\n",
    "    \"path\": f\"{figures_root}/RQ3_var_vs_pred_mean.pdf\",\n",
    "    \"dpi\": 300,    \n",
    "}\n",
    "save_fig(postprocess_fig(fig, ax, **postprocess_params), **save_params)"
   ]
  },
  {
   "cell_type": "code",
   "execution_count": null,
   "metadata": {},
   "outputs": [],
   "source": [
    "fig, ax = plt.subplots(figsize=figsize)\n",
    "disp = lambda: df[\"var\"]\n",
    "err = lambda: df[\"mean\"]\n",
    "\n",
    "num_bins = 1000\n",
    "\n",
    "for i, (model, c) in enumerate(zip(models, colors)):\n",
    "    df = confidence_models[model]\n",
    "    non_outliers = (disp() <= disp().quantile(0.999)) & (disp() >= disp().quantile(0.0001))\n",
    "    x, y = disp()[non_outliers], err()[non_outliers]\n",
    "    _, x_bins = np.histogram(x, bins=num_bins)\n",
    "    x_bins2 = np.arange(num_bins)/num_bins\n",
    "    groups = y.groupby(pd.cut(x, x_bins)).mean()\n",
    "    x_values, y_values = x_bins2, groups.values\n",
    "    ax.scatter(x_values, y_values, label=model, c=c)\n",
    "ax.xaxis.set_major_locator(ticker.MultipleLocator(0.25))\n",
    "plt.gca().yaxis.set_ticks_position('both')\n",
    "ax.set_ylim(ylim2)"
   ]
  },
  {
   "cell_type": "code",
   "execution_count": null,
   "metadata": {},
   "outputs": [],
   "source": [
    "postprocess_params = {\n",
    "}\n",
    "save_params = {\n",
    "    \"path\": f\"{figures_root}/RQ3_var_vs_pred_mean_rescaled_minmax.pdf\",\n",
    "    \"dpi\": 300,    \n",
    "}\n",
    "save_fig(postprocess_fig(fig, ax, **postprocess_params), **save_params)"
   ]
  },
  {
   "cell_type": "code",
   "execution_count": null,
   "metadata": {
    "tags": []
   },
   "outputs": [],
   "source": [
    "fig, ax = plt.subplots(figsize=figsize)\n",
    "disp = lambda: df[\"var\"]\n",
    "err = lambda: df[\"mean\"]\n",
    "num_bins = 1000\n",
    "\n",
    "for i, (model, c) in enumerate(zip(models, colors)):\n",
    "    non_outliers = (disp() <= disp().quantile(0.999)) & (disp() >= disp().quantile(0.0001))\n",
    "    df = confidence_models[model]\n",
    "    x, y = disp()[non_outliers], err()[non_outliers]\n",
    "    x_bins = np.array([pd.qcut(x, num_bins, duplicates=\"drop\").values.categories[0].left] + [_.right for _ in pd.qcut(x,num_bins,duplicates=\"drop\").values.categories])\n",
    "    num_bins_kept = len(pd.qcut(x, num_bins, duplicates=\"drop\").values.categories)\n",
    "    x_bins2 = pd.qcut(x, num_bins, duplicates=\"drop\", labels=np.arange(num_bins_kept)/num_bins_kept).values.categories\n",
    "    x_values, y_values = x_bins[:-1], y.groupby(pd.cut(x, x_bins)).mean().values\n",
    "    \n",
    "    conf = y.groupby(pd.cut(x, x_bins)).std().values\n",
    "    ax.scatter(x_bins2, y_values, label=model, c=c)\n",
    "plt.gca().yaxis.set_ticks_position('both')\n",
    "\n",
    "ax.set_ylim(ylim2)"
   ]
  },
  {
   "cell_type": "code",
   "execution_count": null,
   "metadata": {
    "tags": []
   },
   "outputs": [],
   "source": [
    "postprocess_params = {\n",
    "}\n",
    "save_params = {\n",
    "    \"path\": f\"{figures_root}/RQ3_var_vs_pred_mean_rescaled_quantiles.pdf\",\n",
    "    \"dpi\": 300,    \n",
    "}\n",
    "save_fig(postprocess_fig(fig, ax, **postprocess_params), **save_params)"
   ]
  }
 ],
 "metadata": {
  "jupytext": {
   "formats": "ipynb,py:percent"
  },
  "kernelspec": {
   "display_name": "Conda (tf210)",
   "language": "python",
   "name": "system"
  },
  "language_info": {
   "codemirror_mode": {
    "name": "ipython",
    "version": 3
   },
   "file_extension": ".py",
   "mimetype": "text/x-python",
   "name": "python",
   "nbconvert_exporter": "python",
   "pygments_lexer": "ipython3",
   "version": "3.10.10"
  }
 },
 "nbformat": 4,
 "nbformat_minor": 4
}
