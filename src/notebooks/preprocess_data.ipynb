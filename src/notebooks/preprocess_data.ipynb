{
 "cells": [
  {
   "cell_type": "markdown",
   "metadata": {
    "tags": []
   },
   "source": [
    "#### Download and unpack data"
   ]
  },
  {
   "cell_type": "code",
   "execution_count": null,
   "metadata": {},
   "outputs": [],
   "source": [
    "import os\n",
    "import sys\n",
    "import urllib.request\n",
    "import zipfile\n",
    "\n",
    "from dotenv import load_dotenv\n",
    "load_dotenv()\n",
    "PROJECT_ROOT = os.environ[\"PROJECT_ROOT\"]\n",
    "sys.path.append(PROJECT_ROOT)"
   ]
  },
  {
   "cell_type": "code",
   "execution_count": null,
   "metadata": {},
   "outputs": [],
   "source": [
    "dataset_url = \"https://files.grouplens.org/datasets/movielens/ml-10m.zip\"\n",
    "raw_data_dir = os.path.join(PROJECT_ROOT, \"data/raw\")\n",
    "raw_dataset_dir = os.path.join(raw_data_dir, \"ml-10m\")\n",
    "raw_dataset_dir_temp = os.path.join(raw_data_dir, \"ml-10M100K\")\n",
    "raw_zipped_data_path = os.path.join(raw_data_dir, \"ml-10m.zip\")"
   ]
  },
  {
   "cell_type": "code",
   "execution_count": null,
   "metadata": {},
   "outputs": [],
   "source": [
    "# Download\n",
    "urllib.request.urlretrieve(dataset_url, raw_zipped_data_path)"
   ]
  },
  {
   "cell_type": "code",
   "execution_count": null,
   "metadata": {},
   "outputs": [],
   "source": [
    "# Unpack\n",
    "zip_file = zipfile.ZipFile(raw_zipped_data_path)\n",
    "zip_file.extractall(raw_data_dir)\n",
    "os.rename(raw_dataset_dir_temp, raw_dataset_dir)"
   ]
  },
  {
   "cell_type": "markdown",
   "metadata": {},
   "source": [
    "#### Normalize labels"
   ]
  },
  {
   "cell_type": "code",
   "execution_count": null,
   "metadata": {},
   "outputs": [],
   "source": [
    "import importlib  \n",
    "import os\n",
    "import sys\n",
    "\n",
    "from dotenv import load_dotenv\n",
    "load_dotenv()\n",
    "PROJECT_ROOT = os.environ[\"PROJECT_ROOT\"]\n",
    "sys.path.append(PROJECT_ROOT)\n",
    "\n",
    "preprocessing = importlib.import_module(\"src.modules.data.preprocessing.ml-10m\")"
   ]
  },
  {
   "cell_type": "code",
   "execution_count": null,
   "metadata": {},
   "outputs": [],
   "source": [
    "preprocessing.main()"
   ]
  },
  {
   "cell_type": "markdown",
   "metadata": {
    "tags": []
   },
   "source": [
    "#### Split data into folds"
   ]
  },
  {
   "cell_type": "code",
   "execution_count": null,
   "metadata": {},
   "outputs": [],
   "source": [
    "import os\n",
    "import sys\n",
    "\n",
    "from dotenv import load_dotenv\n",
    "load_dotenv()\n",
    "PROJECT_ROOT = os.environ[\"PROJECT_ROOT\"]\n",
    "sys.path.append(PROJECT_ROOT)\n",
    "\n",
    "import src.modules.data.postprocessing.user_random as postprocessing"
   ]
  },
  {
   "cell_type": "code",
   "execution_count": null,
   "metadata": {},
   "outputs": [],
   "source": [
    "postprocessing_params = {\n",
    "    \"dataset\": \"ml-10m\",\n",
    "    \"xval_outer\": True,\n",
    "    \"xval_inner\": False,\n",
    "    \"num_splits_outer\": 10,\n",
    "    \"num_splits_inner\": 1,\n",
    "    \"test_pc\": 1.,\n",
    "    \"validation_pc\": 0.05,\n",
    "    \"global_seed\": 12345,\n",
    "    \"output_formats\": [\"csv\"],\n",
    "    \"num_shards\": 1000,\n",
    "    \"seeds_path\": None\n",
    "}"
   ]
  },
  {
   "cell_type": "code",
   "execution_count": null,
   "metadata": {},
   "outputs": [],
   "source": [
    "postprocessing.main(PROJECT_ROOT, **postprocessing_params)"
   ]
  }
 ],
 "metadata": {
  "jupytext": {
   "formats": "ipynb,py:percent"
  },
  "kernelspec": {
   "display_name": "Conda (tf210)",
   "language": "python",
   "name": "system"
  },
  "language_info": {
   "codemirror_mode": {
    "name": "ipython",
    "version": 3
   },
   "file_extension": ".py",
   "mimetype": "text/x-python",
   "name": "python",
   "nbconvert_exporter": "python",
   "pygments_lexer": "ipython3",
   "version": "3.10.10"
  }
 },
 "nbformat": 4,
 "nbformat_minor": 4
}
